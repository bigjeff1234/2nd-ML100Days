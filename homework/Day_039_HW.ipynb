{
 "cells": [
  {
   "cell_type": "markdown",
   "metadata": {},
   "source": [
    "## [作業重點]\n",
    "清楚了解 L1, L2 的意義與差異為何，並了解 LASSO 與 Ridge 之間的差異與使用情境"
   ]
  },
  {
   "cell_type": "markdown",
   "metadata": {},
   "source": [
    "## 作業"
   ]
  },
  {
   "cell_type": "markdown",
   "metadata": {},
   "source": [
    "請閱讀相關文獻，並回答下列問題\n",
    "\n",
    "[脊回歸 (Ridge Regression)](https://blog.csdn.net/daunxx/article/details/51578787)\n",
    "[Linear, Ridge, Lasso Regression 本質區別](https://www.zhihu.com/question/38121173)\n",
    "\n",
    "1. LASSO 回歸可以被用來作為 Feature selection 的工具，請了解 LASSO 模型為什麼可用來作 Feature selection\n",
    "2. 當自變數 (X) 存在高度共線性時，Ridge Regression 可以處理這樣的問題嗎?\n"
   ]
  },
  {
   "cell_type": "code",
   "execution_count": null,
   "metadata": {},
   "outputs": [],
   "source": [
    "1.\n",
    "Lasso(L1) Regularization相較於Ridge(L2) Regularization會產生較多零的\n",
    "coefficient，這個特性可以用來做重要Feature Extraction。\n",
    "\n",
    "Linear least squares, Lasso,ridge regression有何本質區別\n",
    "\n",
    "Linear regression: \n",
    "1.只對low dimension適用，比如n=50, p=5，而且這五個變量還不能存在multicolinearity.\n",
    "\n",
    "Ridge: \n",
    "1.就是為了解決multicolinearity( 多重共線性)。\n",
    "2.加一個L2 penalty term也是因為算起來方便。\n",
    "3.但並不能shrink parameters to 0，所以沒法做variable selection。\n",
    "\n",
    "LASSO: \n",
    "1.針對Ridge Regression的沒法做variable selection的問題提出來的\n",
    "2.L1 penalty雖然算起來麻煩，沒有解析解，但可以把某些係數shrink到0啊。\n",
    "3.但是不consistent啊，而且當n很小時至多只能選出n個變量；而且不能做group selection。\n",
    "\n",
    "\n",
    "2.當自變數 (X) 存在高度共線性時，Ridge Regression 可以處理這樣的問題嗎?\n",
    "可以\n",
    "如果數據集存在多重線性關係，均方誤差的算法就會對outlier非常敏感\n",
    "，所以當w係數相當大時，只要X一有一點點的小變動，\n",
    "所造成的結果就會因為w係數大，而結果差異大，造成模型不穩定的情況，\n",
    "因此Ridge Regression就是要修正這個問題。"
   ]
  }
 ],
 "metadata": {
  "kernelspec": {
   "display_name": "Python 3",
   "language": "python",
   "name": "python3"
  },
  "language_info": {
   "codemirror_mode": {
    "name": "ipython",
    "version": 3
   },
   "file_extension": ".py",
   "mimetype": "text/x-python",
   "name": "python",
   "nbconvert_exporter": "python",
   "pygments_lexer": "ipython3",
   "version": "3.6.8"
  }
 },
 "nbformat": 4,
 "nbformat_minor": 2
}
