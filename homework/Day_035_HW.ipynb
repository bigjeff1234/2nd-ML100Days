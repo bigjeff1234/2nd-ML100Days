{
 "cells": [
  {
   "cell_type": "markdown",
   "metadata": {},
   "source": [
    "## 練習時間\n",
    "相信大家對回歸問題及分類問題都有初步的了解。今天的作業希望大家搜尋有關 multi-label 的案例問題。下圖是電影 \"奇異博士\" 的分類。可以看到同時有 \"Action\", \"Adventure\", \"Fantasy\" 的類別存在，代表這是個多標籤的問題。 "
   ]
  },
  {
   "cell_type": "markdown",
   "metadata": {},
   "source": [
    "![image](https://cdn-images-1.medium.com/max/1000/1*r0gYXMSQf5VhdMyl2bRDyg.png)"
   ]
  },
  {
   "cell_type": "markdown",
   "metadata": {},
   "source": [
    "## 請搜尋目標為多標籤問題 (Multi-label) 的機器學習案例，了解其資料來源、目標以及評估指標為何\n",
    "## Hint: 服飾"
   ]
  },
  {
   "cell_type": "markdown",
   "metadata": {},
   "source": [
    "多標簽分類(multilabel classification)分類器給一個新的實例指定多個類別。\n",
    "這個分類模型有很廣泛的實際應用,如:\n",
    "一個文檔可能同時屬於多個分類;\n",
    "一個蛋白質可能具有多個功能。\n",
    "並且,多個標簽之間可能存在一定的依賴或約束關系,如蛋白質的所有功能組成的Go(gene ontology)。\n",
    "\n",
    "多標簽分類（multilabel classification ）\n",
    "相關比賽：Multi-label classification of printed media articles to topics（kaggle）,\n",
    "阿裏天池的fashionAI服飾屬性標簽分類 https://blog.csdn.net/small_ARM/article/details/80646049\n",
    "\n",
    "解决多标签分类问题的技术 https://blog.csdn.net/qq_38906523/article/details/80210527\n",
    "基本上，有三种方法来解决一个多标签分类问题，即:\n",
    "\n",
    "问题转换\n",
    "改编算法\n",
    "集成方法"
   ]
  }
 ],
 "metadata": {
  "kernelspec": {
   "display_name": "Python 3",
   "language": "python",
   "name": "python3"
  },
  "language_info": {
   "codemirror_mode": {
    "name": "ipython",
    "version": 3
   },
   "file_extension": ".py",
   "mimetype": "text/x-python",
   "name": "python",
   "nbconvert_exporter": "python",
   "pygments_lexer": "ipython3",
   "version": "3.6.8"
  }
 },
 "nbformat": 4,
 "nbformat_minor": 2
}
