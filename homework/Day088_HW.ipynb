{
 "cells": [
  {
   "cell_type": "markdown",
   "metadata": {},
   "source": [
    "## Work\n",
    "1. 請嘗試寫一個 callback 用來記錄各類別在訓練過程中，對驗證集的 True Positive 與 True Negative"
   ]
  },
  {
   "cell_type": "code",
   "execution_count": 1,
   "metadata": {},
   "outputs": [
    {
     "name": "stderr",
     "output_type": "stream",
     "text": [
      "Using TensorFlow backend.\n"
     ]
    }
   ],
   "source": [
    "import os\n",
    "import keras\n",
    "\n",
    "# Disable GPU\n",
    "os.environ[\"CUDA_VISIBLE_DEVICES\"] = \"\""
   ]
  },
  {
   "cell_type": "code",
   "execution_count": 2,
   "metadata": {},
   "outputs": [],
   "source": [
    "train, test = keras.datasets.cifar10.load_data()"
   ]
  },
  {
   "cell_type": "code",
   "execution_count": 3,
   "metadata": {},
   "outputs": [],
   "source": [
    "## 資料前處理\n",
    "def preproc_x(x, flatten=True):\n",
    "    x = x / 255.\n",
    "    if flatten:\n",
    "        x = x.reshape((len(x), -1))\n",
    "    return x\n",
    "\n",
    "def preproc_y(y, num_classes=10):\n",
    "    if y.shape[-1] == 1:\n",
    "        y = keras.utils.to_categorical(y, num_classes)\n",
    "    return y    "
   ]
  },
  {
   "cell_type": "code",
   "execution_count": 4,
   "metadata": {},
   "outputs": [],
   "source": [
    "x_train, y_train = train\n",
    "x_test, y_test = test\n",
    "\n",
    "# Preproc the inputs\n",
    "x_train = preproc_x(x_train)\n",
    "x_test = preproc_x(x_test)\n",
    "\n",
    "# Preprc the outputs\n",
    "y_train = preproc_y(y_train)\n",
    "y_test = preproc_y(y_test)"
   ]
  },
  {
   "cell_type": "code",
   "execution_count": 5,
   "metadata": {},
   "outputs": [],
   "source": [
    "from keras.layers import BatchNormalization\n",
    "def build_mlp(input_shape, output_units=10, num_neurons=[256, 256, 256]):\n",
    "    input_layer = keras.layers.Input(input_shape)\n",
    "    \n",
    "    for i, n_units in enumerate(num_neurons):\n",
    "        if i == 0:\n",
    "            x = keras.layers.Dense(units=n_units, \n",
    "                                   activation=\"relu\", \n",
    "                                   name=\"hidden_layer\"+str(i+1))(input_layer)\n",
    "            x = BatchNormalization()(x)\n",
    "        else:\n",
    "            x = keras.layers.Dense(units=n_units, \n",
    "                                   activation=\"relu\", \n",
    "                                   name=\"hidden_layer\"+str(i+1))(x)\n",
    "            x = BatchNormalization()(x)\n",
    "    \n",
    "    out = keras.layers.Dense(units=output_units, activation=\"softmax\", name=\"output\")(x)\n",
    "    \n",
    "    model = keras.models.Model(inputs=[input_layer], outputs=[out])\n",
    "    return model"
   ]
  },
  {
   "cell_type": "code",
   "execution_count": 6,
   "metadata": {},
   "outputs": [],
   "source": [
    "## 超參數設定\n",
    "LEARNING_RATE = 1e-3\n",
    "EPOCHS = 25\n",
    "BATCH_SIZE = 1024\n",
    "MOMENTUM = 0.95"
   ]
  },
  {
   "cell_type": "code",
   "execution_count": 7,
   "metadata": {},
   "outputs": [],
   "source": [
    "# 載入 Callbacks\n",
    "import numpy as np\n",
    "from keras.callbacks import Callback\n",
    "from sklearn.metrics import confusion_matrix\n",
    "# Record_fp_tp\n",
    "class Record_tp_tn(Callback):\n",
    "    \"\"\"Code Here\n",
    "    撰寫一個紀錄 ture positive 與 true negative 數量的 callbacks    \n",
    "    \"\"\"\n",
    "    def on_epoch_end(self, epoch, logs = {}):\n",
    "        logs = logs or {}\n",
    "        y_true = self.validation_data[1].argmax(axis = 1)\n",
    "        y_pred = self.model.predict(self.validation_data[0]).argmax(axis = 1)\n",
    "        \n",
    "        cm = confusion_matrix(y_true, y_pred, labels=np.arange(10))\n",
    "        TP = cm[0, 0]\n",
    "        TN = cm.sum() - cm[0, :].sum() - cm[:, 0].sum() + TP\n",
    "        logs['val_tn'], logs['val_tp'] = TN, TP\n",
    "\n",
    "        \n",
    "rec_tptn = Record_tp_tn()"
   ]
  },
  {
   "cell_type": "code",
   "execution_count": 8,
   "metadata": {
    "scrolled": true
   },
   "outputs": [
    {
     "name": "stdout",
     "output_type": "stream",
     "text": [
      "_________________________________________________________________\n",
      "Layer (type)                 Output Shape              Param #   \n",
      "=================================================================\n",
      "input_1 (InputLayer)         (None, 3072)              0         \n",
      "_________________________________________________________________\n",
      "hidden_layer1 (Dense)        (None, 256)               786688    \n",
      "_________________________________________________________________\n",
      "batch_normalization_1 (Batch (None, 256)               1024      \n",
      "_________________________________________________________________\n",
      "hidden_layer2 (Dense)        (None, 256)               65792     \n",
      "_________________________________________________________________\n",
      "batch_normalization_2 (Batch (None, 256)               1024      \n",
      "_________________________________________________________________\n",
      "hidden_layer3 (Dense)        (None, 256)               65792     \n",
      "_________________________________________________________________\n",
      "batch_normalization_3 (Batch (None, 256)               1024      \n",
      "_________________________________________________________________\n",
      "output (Dense)               (None, 10)                2570      \n",
      "=================================================================\n",
      "Total params: 923,914\n",
      "Trainable params: 922,378\n",
      "Non-trainable params: 1,536\n",
      "_________________________________________________________________\n",
      "Train on 50000 samples, validate on 10000 samples\n",
      "Epoch 1/25\n",
      "50000/50000 [==============================] - 5s 100us/step - loss: 2.2065 - acc: 0.2711 - val_loss: 2.1294 - val_acc: 0.3227\n",
      "Epoch 2/25\n",
      "50000/50000 [==============================] - 2s 38us/step - loss: 1.7473 - acc: 0.3873 - val_loss: 1.8278 - val_acc: 0.3816\n",
      "Epoch 3/25\n",
      "50000/50000 [==============================] - 2s 37us/step - loss: 1.6250 - acc: 0.4270 - val_loss: 1.6889 - val_acc: 0.4067\n",
      "Epoch 4/25\n",
      "50000/50000 [==============================] - 2s 38us/step - loss: 1.5522 - acc: 0.4517 - val_loss: 1.6560 - val_acc: 0.4160\n",
      "Epoch 5/25\n",
      "50000/50000 [==============================] - 2s 38us/step - loss: 1.4988 - acc: 0.4725 - val_loss: 1.6130 - val_acc: 0.4282\n",
      "Epoch 6/25\n",
      "50000/50000 [==============================] - 2s 39us/step - loss: 1.4555 - acc: 0.4877 - val_loss: 1.5804 - val_acc: 0.4435\n",
      "Epoch 7/25\n",
      "50000/50000 [==============================] - 2s 39us/step - loss: 1.4201 - acc: 0.5009 - val_loss: 1.5487 - val_acc: 0.4524\n",
      "Epoch 8/25\n",
      "50000/50000 [==============================] - 2s 40us/step - loss: 1.3860 - acc: 0.5127 - val_loss: 1.5279 - val_acc: 0.4602\n",
      "Epoch 9/25\n",
      "50000/50000 [==============================] - 2s 41us/step - loss: 1.3557 - acc: 0.5234 - val_loss: 1.5161 - val_acc: 0.4632\n",
      "Epoch 10/25\n",
      "50000/50000 [==============================] - 2s 40us/step - loss: 1.3286 - acc: 0.5333 - val_loss: 1.5026 - val_acc: 0.4685\n",
      "Epoch 11/25\n",
      "50000/50000 [==============================] - 2s 39us/step - loss: 1.3027 - acc: 0.5436 - val_loss: 1.5093 - val_acc: 0.4628\n",
      "Epoch 12/25\n",
      "50000/50000 [==============================] - 2s 39us/step - loss: 1.2784 - acc: 0.5521 - val_loss: 1.4915 - val_acc: 0.4742\n",
      "Epoch 13/25\n",
      "50000/50000 [==============================] - 2s 38us/step - loss: 1.2547 - acc: 0.5606 - val_loss: 1.4757 - val_acc: 0.4750\n",
      "Epoch 14/25\n",
      "50000/50000 [==============================] - 2s 38us/step - loss: 1.2328 - acc: 0.5695 - val_loss: 1.4804 - val_acc: 0.4776\n",
      "Epoch 15/25\n",
      "50000/50000 [==============================] - 2s 38us/step - loss: 1.2136 - acc: 0.5753 - val_loss: 1.4735 - val_acc: 0.4799\n",
      "Epoch 16/25\n",
      "50000/50000 [==============================] - 2s 38us/step - loss: 1.1932 - acc: 0.5825 - val_loss: 1.4614 - val_acc: 0.4878\n",
      "Epoch 17/25\n",
      "50000/50000 [==============================] - 2s 38us/step - loss: 1.1711 - acc: 0.5924 - val_loss: 1.4608 - val_acc: 0.4893\n",
      "Epoch 18/25\n",
      "50000/50000 [==============================] - 2s 38us/step - loss: 1.1524 - acc: 0.5997 - val_loss: 1.4564 - val_acc: 0.4922\n",
      "Epoch 19/25\n",
      "50000/50000 [==============================] - 2s 41us/step - loss: 1.1356 - acc: 0.6066 - val_loss: 1.4544 - val_acc: 0.4897\n",
      "Epoch 20/25\n",
      "50000/50000 [==============================] - 2s 40us/step - loss: 1.1165 - acc: 0.6122 - val_loss: 1.4510 - val_acc: 0.4923\n",
      "Epoch 21/25\n",
      "50000/50000 [==============================] - 2s 38us/step - loss: 1.0982 - acc: 0.6198 - val_loss: 1.4383 - val_acc: 0.4928\n",
      "Epoch 22/25\n",
      "50000/50000 [==============================] - 2s 39us/step - loss: 1.0803 - acc: 0.6267 - val_loss: 1.4533 - val_acc: 0.4879\n",
      "Epoch 23/25\n",
      "50000/50000 [==============================] - 2s 38us/step - loss: 1.0616 - acc: 0.6354 - val_loss: 1.4430 - val_acc: 0.4969\n",
      "Epoch 24/25\n",
      "50000/50000 [==============================] - 2s 38us/step - loss: 1.0444 - acc: 0.6405 - val_loss: 1.4512 - val_acc: 0.4904\n",
      "Epoch 25/25\n",
      "50000/50000 [==============================] - 2s 38us/step - loss: 1.0278 - acc: 0.6480 - val_loss: 1.4401 - val_acc: 0.5001\n"
     ]
    }
   ],
   "source": [
    "model = build_mlp(input_shape=x_train.shape[1:])\n",
    "model.summary()\n",
    "optimizer = keras.optimizers.SGD(lr=LEARNING_RATE, nesterov=True, momentum=MOMENTUM)\n",
    "model.compile(loss=\"categorical_crossentropy\", metrics=[\"accuracy\"], optimizer=optimizer)\n",
    "\n",
    "\"\"\"Code Here\n",
    "將 callbacks 放入模型訓練流程中\n",
    "\"\"\"\n",
    "model.fit(x_train, y_train, \n",
    "          epochs=EPOCHS, \n",
    "          batch_size=BATCH_SIZE, \n",
    "          validation_data=(x_test, y_test), \n",
    "          shuffle=True,\n",
    "          callbacks=[rec_tptn]\n",
    "         )\n",
    "\n",
    "# Collect results\n",
    "train_loss = model.history.history[\"loss\"]\n",
    "valid_loss = model.history.history[\"val_loss\"]\n",
    "train_acc = model.history.history[\"acc\"]\n",
    "valid_acc = model.history.history[\"val_acc\"]\n",
    "\n",
    "\"\"\"Code Here\n",
    "將 tp/tn 從訓練完的模型中取出\n",
    "\"\"\"\n",
    "valid_tp = model.history.history['val_tp']\n",
    "valid_tn = model.history.history['val_tn']"
   ]
  },
  {
   "cell_type": "code",
   "execution_count": 9,
   "metadata": {},
   "outputs": [
    {
     "data": {
      "image/png": "[encoded data removed]",
      "text/plain": [
       "<Figure size 432x288 with 1 Axes>"
      ]
     },
     "metadata": {
      "needs_background": "light"
     },
     "output_type": "display_data"
    },
    {
     "data": {
      "image/png": "[encoded data removed]",
      "text/plain": [
       "<Figure size 432x288 with 1 Axes>"
      ]
     },
     "metadata": {
      "needs_background": "light"
     },
     "output_type": "display_data"
    },
    {
     "data": {
      "image/png": "[encoded data removed]",
      "text/plain": [
       "<Figure size 432x288 with 1 Axes>"
      ]
     },
     "metadata": {
      "needs_background": "light"
     },
     "output_type": "display_data"
    }
   ],
   "source": [
    "import matplotlib.pyplot as plt\n",
    "%matplotlib inline\n",
    "\n",
    "plt.plot(range(len(train_loss)), train_loss, label=\"train loss\")\n",
    "plt.plot(range(len(valid_loss)), valid_loss, label=\"valid loss\")\n",
    "plt.legend()\n",
    "plt.title(\"Loss\")\n",
    "plt.show()\n",
    "\n",
    "plt.plot(range(len(train_acc)), train_acc, label=\"train accuracy\")\n",
    "plt.plot(range(len(valid_acc)), valid_acc, label=\"valid accuracy\")\n",
    "plt.legend()\n",
    "plt.title(\"Accuracy\")\n",
    "plt.show()\n",
    "\n",
    "plt.plot(range(len(valid_tp)), valid_tp, label=\"valid tp\", color=\"navy\")\n",
    "plt.plot(range(len(valid_tn)), valid_tn, label=\"valid tn\", color=\"red\")\n",
    "plt.legend()\n",
    "plt.title(\"True positives and True Negatives\")\n",
    "plt.show()\n"
   ]
  }
 ],
 "metadata": {
  "kernelspec": {
   "display_name": "Python 3",
   "language": "python",
   "name": "python3"
  },
  "language_info": {
   "codemirror_mode": {
    "name": "ipython",
    "version": 3
   },
   "file_extension": ".py",
   "mimetype": "text/x-python",
   "name": "python",
   "nbconvert_exporter": "python",
   "pygments_lexer": "ipython3",
   "version": "3.6.8"
  }
 },
 "nbformat": 4,
 "nbformat_minor": 2
}
