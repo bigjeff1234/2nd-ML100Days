{
 "cells": [
  {
   "cell_type": "markdown",
   "metadata": {},
   "source": [
    "## Work\n",
    "1. 請嘗試將 preproc_x 替換成以每筆資料的 min/max 進行標準化至 -1 ~ 1 間，再進行訓練\n",
    "2. 請嘗試將 mlp 疊更深 (e.g 5~10 層)，進行訓練後觀察 learning curve 的走勢\n",
    "3. (optional) 請改用 GPU 進行訓練 (如果你有 GPU 的話)，比較使用 CPU 與 GPU 的訓練速度"
   ]
  },
  {
   "cell_type": "code",
   "execution_count": 1,
   "metadata": {},
   "outputs": [
    {
     "data": {
      "text/plain": [
       "'\\nYour code here (optional)\\n確認硬體資源\\n'"
      ]
     },
     "execution_count": 1,
     "metadata": {},
     "output_type": "execute_result"
    }
   ],
   "source": [
    "## \n",
    "\"\"\"\n",
    "Your code here (optional)\n",
    "確認硬體資源\n",
    "\"\"\"\n"
   ]
  },
  {
   "cell_type": "code",
   "execution_count": 2,
   "metadata": {},
   "outputs": [
    {
     "name": "stderr",
     "output_type": "stream",
     "text": [
      "Using TensorFlow backend.\n"
     ]
    }
   ],
   "source": [
    "import os\n",
    "import keras\n",
    "\n",
    "# 請嘗試設定 GPU：os.environ\n",
    "# 本範例不需使用 GPU, 將 GPU 設定為 \"無\"\n",
    "os.environ[\"CUDA_VISIBLE_DEVICES\"] = \"0\""
   ]
  },
  {
   "cell_type": "code",
   "execution_count": 3,
   "metadata": {},
   "outputs": [],
   "source": [
    "train, test = keras.datasets.cifar10.load_data()"
   ]
  },
  {
   "cell_type": "code",
   "execution_count": 4,
   "metadata": {},
   "outputs": [],
   "source": [
    "## 資料前處理\n",
    "\"\"\"\n",
    "Your code here\n",
    "\"\"\"\n",
    "\n",
    "def preproc_x(x, flatten=True):\n",
    "    a = x.min()\n",
    "    b = x.max()\n",
    "    x = (x - a)/(b - a) \n",
    "    if flatten:\n",
    "        x = x.reshape((len(x), -1))\n",
    "    return x\n",
    "\n",
    "def preproc_y(y, num_classes=10):\n",
    "    if y.shape[-1] == 1:\n",
    "        y = keras.utils.to_categorical(y, num_classes)\n",
    "    return y"
   ]
  },
  {
   "cell_type": "code",
   "execution_count": 5,
   "metadata": {},
   "outputs": [],
   "source": [
    "x_train, y_train = train\n",
    "x_test, y_test = test\n",
    "\n",
    "# Preproc the inputs\n",
    "x_train = preproc_x(x_train)\n",
    "x_test = preproc_x(x_test)\n",
    "\n",
    "# Preprc the outputs\n",
    "y_train = preproc_y(y_train)\n",
    "y_test = preproc_y(y_test)"
   ]
  },
  {
   "cell_type": "code",
   "execution_count": 6,
   "metadata": {},
   "outputs": [
    {
     "name": "stdout",
     "output_type": "stream",
     "text": [
      "_________________________________________________________________\n",
      "Layer (type)                 Output Shape              Param #   \n",
      "=================================================================\n",
      "input_1 (InputLayer)         (None, 3072)              0         \n",
      "_________________________________________________________________\n",
      "hidden_layer1 (Dense)        (None, 512)               1573376   \n",
      "_________________________________________________________________\n",
      "hidden_layer2 (Dense)        (None, 256)               131328    \n",
      "_________________________________________________________________\n",
      "hidden_layer3 (Dense)        (None, 128)               32896     \n",
      "_________________________________________________________________\n",
      "hidden_layer4 (Dense)        (None, 64)                8256      \n",
      "_________________________________________________________________\n",
      "hidden_layer5 (Dense)        (None, 32)                2080      \n",
      "_________________________________________________________________\n",
      "output (Dense)               (None, 10)                330       \n",
      "=================================================================\n",
      "Total params: 1,748,266\n",
      "Trainable params: 1,748,266\n",
      "Non-trainable params: 0\n",
      "_________________________________________________________________\n"
     ]
    }
   ],
   "source": [
    "\"\"\"Code Here\n",
    "建立你的神經網路\n",
    "\"\"\"\n",
    "\n",
    "def build_mlp(input_shape, output_units=10, num_neurons=[512, 256, 128,64,32]):\n",
    "    input_layer = keras.layers.Input(input_shape)\n",
    "    \n",
    "    for i, n_units in enumerate(num_neurons):\n",
    "        if i == 0:\n",
    "            x = keras.layers.Dense(units=n_units, activation=\"relu\", name=\"hidden_layer\"+str(i+1))(input_layer)\n",
    "        else:\n",
    "            x = keras.layers.Dense(units=n_units, activation=\"relu\", name=\"hidden_layer\"+str(i+1))(x)\n",
    "    \n",
    "    out = keras.layers.Dense(units=output_units, activation=\"softmax\", name=\"output\")(x)\n",
    "    \n",
    "    model = keras.models.Model(inputs=[input_layer], outputs=[out])\n",
    "    return model\n",
    "model = build_mlp(input_shape=x_train.shape[1:])\n",
    "model.summary()"
   ]
  },
  {
   "cell_type": "code",
   "execution_count": 7,
   "metadata": {},
   "outputs": [],
   "source": [
    "## 超參數設定\n",
    "LEARNING_RATE = 0.001\n",
    "EPOCHS = 100\n",
    "BATCH_SIZE = 256"
   ]
  },
  {
   "cell_type": "code",
   "execution_count": 8,
   "metadata": {},
   "outputs": [],
   "source": [
    "optimizer = keras.optimizers.Adam(lr=LEARNING_RATE)\n",
    "model.compile(loss=\"categorical_crossentropy\", metrics=[\"accuracy\"], optimizer=optimizer)"
   ]
  },
  {
   "cell_type": "code",
   "execution_count": 9,
   "metadata": {},
   "outputs": [
    {
     "name": "stdout",
     "output_type": "stream",
     "text": [
      "Train on 50000 samples, validate on 10000 samples\n",
      "Epoch 1/100\n",
      "50000/50000 [==============================] - 6s 118us/step - loss: 1.9833 - acc: 0.2700 - val_loss: 1.8324 - val_acc: 0.3455\n",
      "Epoch 2/100\n",
      "50000/50000 [==============================] - 3s 62us/step - loss: 1.7398 - acc: 0.3748 - val_loss: 1.6873 - val_acc: 0.3999\n",
      "Epoch 3/100\n",
      "50000/50000 [==============================] - 3s 61us/step - loss: 1.6516 - acc: 0.4065 - val_loss: 1.6099 - val_acc: 0.4219\n",
      "Epoch 4/100\n",
      "50000/50000 [==============================] - 3s 62us/step - loss: 1.5800 - acc: 0.4333 - val_loss: 1.5547 - val_acc: 0.4477\n",
      "Epoch 5/100\n",
      "50000/50000 [==============================] - 3s 62us/step - loss: 1.5310 - acc: 0.4491 - val_loss: 1.5161 - val_acc: 0.4583\n",
      "Epoch 6/100\n",
      "50000/50000 [==============================] - 3s 62us/step - loss: 1.4863 - acc: 0.4670 - val_loss: 1.4921 - val_acc: 0.4638\n",
      "Epoch 7/100\n",
      "50000/50000 [==============================] - 3s 61us/step - loss: 1.4592 - acc: 0.4791 - val_loss: 1.5169 - val_acc: 0.4560\n",
      "Epoch 8/100\n",
      "50000/50000 [==============================] - 3s 62us/step - loss: 1.4275 - acc: 0.4892 - val_loss: 1.4646 - val_acc: 0.4776\n",
      "Epoch 9/100\n",
      "50000/50000 [==============================] - 3s 62us/step - loss: 1.3931 - acc: 0.5034 - val_loss: 1.4556 - val_acc: 0.4862\n",
      "Epoch 10/100\n",
      "50000/50000 [==============================] - 3s 62us/step - loss: 1.3722 - acc: 0.5111 - val_loss: 1.4212 - val_acc: 0.4988\n",
      "Epoch 11/100\n",
      "50000/50000 [==============================] - 3s 61us/step - loss: 1.3378 - acc: 0.5212 - val_loss: 1.3996 - val_acc: 0.5029\n",
      "Epoch 12/100\n",
      "50000/50000 [==============================] - 3s 62us/step - loss: 1.3171 - acc: 0.5292 - val_loss: 1.4072 - val_acc: 0.5049\n",
      "Epoch 13/100\n",
      "50000/50000 [==============================] - 3s 62us/step - loss: 1.2923 - acc: 0.5386 - val_loss: 1.4082 - val_acc: 0.5054\n",
      "Epoch 14/100\n",
      "50000/50000 [==============================] - 3s 62us/step - loss: 1.2687 - acc: 0.5454 - val_loss: 1.4416 - val_acc: 0.4935\n",
      "Epoch 15/100\n",
      "50000/50000 [==============================] - 3s 63us/step - loss: 1.2510 - acc: 0.5533 - val_loss: 1.3890 - val_acc: 0.5133\n",
      "Epoch 16/100\n",
      "50000/50000 [==============================] - 3s 62us/step - loss: 1.2279 - acc: 0.5598 - val_loss: 1.3886 - val_acc: 0.5038\n",
      "Epoch 17/100\n",
      "50000/50000 [==============================] - 3s 62us/step - loss: 1.2066 - acc: 0.5699 - val_loss: 1.3931 - val_acc: 0.5080\n",
      "Epoch 18/100\n",
      "50000/50000 [==============================] - 3s 63us/step - loss: 1.1878 - acc: 0.5744 - val_loss: 1.3764 - val_acc: 0.5132\n",
      "Epoch 19/100\n",
      "50000/50000 [==============================] - 3s 62us/step - loss: 1.1741 - acc: 0.5791 - val_loss: 1.3682 - val_acc: 0.5175\n",
      "Epoch 20/100\n",
      "50000/50000 [==============================] - 3s 64us/step - loss: 1.1530 - acc: 0.5886 - val_loss: 1.3904 - val_acc: 0.5092\n",
      "Epoch 21/100\n",
      "50000/50000 [==============================] - 3s 62us/step - loss: 1.1310 - acc: 0.5969 - val_loss: 1.3480 - val_acc: 0.5258\n",
      "Epoch 22/100\n",
      "50000/50000 [==============================] - 3s 63us/step - loss: 1.1128 - acc: 0.5988 - val_loss: 1.4590 - val_acc: 0.4973\n",
      "Epoch 23/100\n",
      "50000/50000 [==============================] - 3s 63us/step - loss: 1.0866 - acc: 0.6104 - val_loss: 1.3965 - val_acc: 0.5124\n",
      "Epoch 24/100\n",
      "50000/50000 [==============================] - 3s 62us/step - loss: 1.0661 - acc: 0.6188 - val_loss: 1.4866 - val_acc: 0.5035\n",
      "Epoch 25/100\n",
      "50000/50000 [==============================] - 3s 63us/step - loss: 1.0588 - acc: 0.6205 - val_loss: 1.3872 - val_acc: 0.5215\n",
      "Epoch 26/100\n",
      "50000/50000 [==============================] - 3s 63us/step - loss: 1.0277 - acc: 0.6304 - val_loss: 1.3888 - val_acc: 0.5253\n",
      "Epoch 27/100\n",
      "50000/50000 [==============================] - 3s 62us/step - loss: 1.0131 - acc: 0.6369 - val_loss: 1.4076 - val_acc: 0.5246\n",
      "Epoch 28/100\n",
      "50000/50000 [==============================] - 3s 63us/step - loss: 0.9964 - acc: 0.6438 - val_loss: 1.4087 - val_acc: 0.5149\n",
      "Epoch 29/100\n",
      "50000/50000 [==============================] - 3s 63us/step - loss: 0.9756 - acc: 0.6489 - val_loss: 1.4113 - val_acc: 0.5234\n",
      "Epoch 30/100\n",
      "50000/50000 [==============================] - 3s 63us/step - loss: 0.9538 - acc: 0.6575 - val_loss: 1.4245 - val_acc: 0.5210\n",
      "Epoch 31/100\n",
      "50000/50000 [==============================] - 3s 62us/step - loss: 0.9487 - acc: 0.6605 - val_loss: 1.4410 - val_acc: 0.5239\n",
      "Epoch 32/100\n",
      "50000/50000 [==============================] - 3s 62us/step - loss: 0.9219 - acc: 0.6688 - val_loss: 1.4624 - val_acc: 0.5258\n",
      "Epoch 33/100\n",
      "50000/50000 [==============================] - 3s 63us/step - loss: 0.8979 - acc: 0.6792 - val_loss: 1.4722 - val_acc: 0.5287\n",
      "Epoch 34/100\n",
      "50000/50000 [==============================] - 3s 62us/step - loss: 0.8932 - acc: 0.6786 - val_loss: 1.4950 - val_acc: 0.5244\n",
      "Epoch 35/100\n",
      "50000/50000 [==============================] - 3s 63us/step - loss: 0.8815 - acc: 0.6846 - val_loss: 1.4993 - val_acc: 0.5167\n",
      "Epoch 36/100\n",
      "50000/50000 [==============================] - 3s 62us/step - loss: 0.8635 - acc: 0.6904 - val_loss: 1.5254 - val_acc: 0.5220\n",
      "Epoch 37/100\n",
      "50000/50000 [==============================] - 3s 63us/step - loss: 0.8496 - acc: 0.6968 - val_loss: 1.5484 - val_acc: 0.5162\n",
      "Epoch 38/100\n",
      "50000/50000 [==============================] - 3s 63us/step - loss: 0.8147 - acc: 0.7094 - val_loss: 1.5543 - val_acc: 0.5188\n",
      "Epoch 39/100\n",
      "50000/50000 [==============================] - 3s 62us/step - loss: 0.8058 - acc: 0.7116 - val_loss: 1.5753 - val_acc: 0.5292\n",
      "Epoch 40/100\n",
      "50000/50000 [==============================] - 3s 63us/step - loss: 0.7985 - acc: 0.7126 - val_loss: 1.5743 - val_acc: 0.5147\n",
      "Epoch 41/100\n",
      "50000/50000 [==============================] - 3s 63us/step - loss: 0.7687 - acc: 0.7254 - val_loss: 1.6504 - val_acc: 0.5153\n",
      "Epoch 42/100\n",
      "50000/50000 [==============================] - 3s 62us/step - loss: 0.7517 - acc: 0.7316 - val_loss: 1.6605 - val_acc: 0.5198\n",
      "Epoch 43/100\n",
      "50000/50000 [==============================] - 3s 62us/step - loss: 0.7601 - acc: 0.7298 - val_loss: 1.6811 - val_acc: 0.5183\n",
      "Epoch 44/100\n",
      "50000/50000 [==============================] - 3s 62us/step - loss: 0.7392 - acc: 0.7344 - val_loss: 1.6741 - val_acc: 0.5147\n",
      "Epoch 45/100\n",
      "50000/50000 [==============================] - 3s 62us/step - loss: 0.7214 - acc: 0.7399 - val_loss: 1.7132 - val_acc: 0.5173\n",
      "Epoch 46/100\n",
      "50000/50000 [==============================] - 3s 63us/step - loss: 0.6984 - acc: 0.7496 - val_loss: 1.7395 - val_acc: 0.5088\n",
      "Epoch 47/100\n",
      "50000/50000 [==============================] - 3s 63us/step - loss: 0.6929 - acc: 0.7520 - val_loss: 1.7631 - val_acc: 0.5231\n",
      "Epoch 48/100\n",
      "50000/50000 [==============================] - 3s 63us/step - loss: 0.6815 - acc: 0.7542 - val_loss: 1.7845 - val_acc: 0.5184\n",
      "Epoch 49/100\n",
      "50000/50000 [==============================] - 3s 63us/step - loss: 0.6675 - acc: 0.7610 - val_loss: 1.7914 - val_acc: 0.5175\n",
      "Epoch 50/100\n",
      "50000/50000 [==============================] - 3s 62us/step - loss: 0.6531 - acc: 0.7646 - val_loss: 1.8377 - val_acc: 0.5125\n",
      "Epoch 51/100\n",
      "50000/50000 [==============================] - 3s 62us/step - loss: 0.6525 - acc: 0.7643 - val_loss: 1.8272 - val_acc: 0.5116\n",
      "Epoch 52/100\n",
      "50000/50000 [==============================] - 3s 63us/step - loss: 0.6258 - acc: 0.7752 - val_loss: 1.8698 - val_acc: 0.5092\n",
      "Epoch 53/100\n",
      "50000/50000 [==============================] - 3s 63us/step - loss: 0.6333 - acc: 0.7718 - val_loss: 1.9007 - val_acc: 0.5131\n",
      "Epoch 54/100\n",
      "50000/50000 [==============================] - 3s 63us/step - loss: 0.6230 - acc: 0.7754 - val_loss: 1.8785 - val_acc: 0.5186\n",
      "Epoch 55/100\n",
      "50000/50000 [==============================] - 3s 62us/step - loss: 0.5951 - acc: 0.7850 - val_loss: 1.9257 - val_acc: 0.5040\n",
      "Epoch 56/100\n",
      "50000/50000 [==============================] - 3s 63us/step - loss: 0.6058 - acc: 0.7818 - val_loss: 1.9584 - val_acc: 0.5095\n",
      "Epoch 57/100\n",
      "50000/50000 [==============================] - 3s 64us/step - loss: 0.5722 - acc: 0.7938 - val_loss: 1.9518 - val_acc: 0.5106\n",
      "Epoch 58/100\n",
      "50000/50000 [==============================] - 3s 64us/step - loss: 0.5726 - acc: 0.7938 - val_loss: 2.0520 - val_acc: 0.4938\n",
      "Epoch 59/100\n"
     ]
    },
    {
     "name": "stdout",
     "output_type": "stream",
     "text": [
      "50000/50000 [==============================] - 3s 62us/step - loss: 0.5792 - acc: 0.7913 - val_loss: 2.0447 - val_acc: 0.5009\n",
      "Epoch 60/100\n",
      "50000/50000 [==============================] - 3s 65us/step - loss: 0.5545 - acc: 0.8009 - val_loss: 2.0665 - val_acc: 0.5097\n",
      "Epoch 61/100\n",
      "50000/50000 [==============================] - 3s 63us/step - loss: 0.5480 - acc: 0.8030 - val_loss: 2.0624 - val_acc: 0.5146\n",
      "Epoch 62/100\n",
      "50000/50000 [==============================] - 3s 64us/step - loss: 0.5227 - acc: 0.8115 - val_loss: 2.1503 - val_acc: 0.5022\n",
      "Epoch 63/100\n",
      "50000/50000 [==============================] - 3s 62us/step - loss: 0.5235 - acc: 0.8118 - val_loss: 2.1743 - val_acc: 0.5053\n",
      "Epoch 64/100\n",
      "50000/50000 [==============================] - 3s 62us/step - loss: 0.5085 - acc: 0.8178 - val_loss: 2.2068 - val_acc: 0.5059\n",
      "Epoch 65/100\n",
      "50000/50000 [==============================] - 3s 63us/step - loss: 0.4931 - acc: 0.8239 - val_loss: 2.3217 - val_acc: 0.5036\n",
      "Epoch 66/100\n",
      "50000/50000 [==============================] - 3s 62us/step - loss: 0.5037 - acc: 0.8191 - val_loss: 2.2039 - val_acc: 0.5054\n",
      "Epoch 67/100\n",
      "50000/50000 [==============================] - 3s 63us/step - loss: 0.4935 - acc: 0.8224 - val_loss: 2.1928 - val_acc: 0.5073\n",
      "Epoch 68/100\n",
      "50000/50000 [==============================] - 3s 62us/step - loss: 0.4714 - acc: 0.8308 - val_loss: 2.3541 - val_acc: 0.5006\n",
      "Epoch 69/100\n",
      "50000/50000 [==============================] - 3s 62us/step - loss: 0.4613 - acc: 0.8331 - val_loss: 2.2117 - val_acc: 0.5130\n",
      "Epoch 70/100\n",
      "50000/50000 [==============================] - 3s 62us/step - loss: 0.4780 - acc: 0.8288 - val_loss: 2.3064 - val_acc: 0.4996\n",
      "Epoch 71/100\n",
      "50000/50000 [==============================] - 3s 62us/step - loss: 0.4707 - acc: 0.8300 - val_loss: 2.3039 - val_acc: 0.4960\n",
      "Epoch 72/100\n",
      "50000/50000 [==============================] - 3s 63us/step - loss: 0.4511 - acc: 0.8370 - val_loss: 2.3916 - val_acc: 0.5087\n",
      "Epoch 73/100\n",
      "50000/50000 [==============================] - 3s 62us/step - loss: 0.4543 - acc: 0.8370 - val_loss: 2.4059 - val_acc: 0.5082\n",
      "Epoch 74/100\n",
      "50000/50000 [==============================] - 3s 62us/step - loss: 0.4300 - acc: 0.8451 - val_loss: 2.3866 - val_acc: 0.5073\n",
      "Epoch 75/100\n",
      "50000/50000 [==============================] - 3s 62us/step - loss: 0.4349 - acc: 0.8425 - val_loss: 2.3846 - val_acc: 0.5010\n",
      "Epoch 76/100\n",
      "50000/50000 [==============================] - 3s 64us/step - loss: 0.4269 - acc: 0.8463 - val_loss: 2.4415 - val_acc: 0.5085\n",
      "Epoch 77/100\n",
      "50000/50000 [==============================] - 3s 63us/step - loss: 0.4221 - acc: 0.8472 - val_loss: 2.5522 - val_acc: 0.5102\n",
      "Epoch 78/100\n",
      "50000/50000 [==============================] - 3s 64us/step - loss: 0.4095 - acc: 0.8531 - val_loss: 2.6474 - val_acc: 0.5009\n",
      "Epoch 79/100\n",
      "50000/50000 [==============================] - 3s 63us/step - loss: 0.4150 - acc: 0.8512 - val_loss: 2.5691 - val_acc: 0.4982\n",
      "Epoch 80/100\n",
      "50000/50000 [==============================] - 3s 63us/step - loss: 0.4050 - acc: 0.8546 - val_loss: 2.5670 - val_acc: 0.5041\n",
      "Epoch 81/100\n",
      "50000/50000 [==============================] - 3s 64us/step - loss: 0.3935 - acc: 0.8573 - val_loss: 2.5281 - val_acc: 0.5008\n",
      "Epoch 82/100\n",
      "50000/50000 [==============================] - 3s 65us/step - loss: 0.4083 - acc: 0.8512 - val_loss: 2.5825 - val_acc: 0.5002\n",
      "Epoch 83/100\n",
      "50000/50000 [==============================] - 3s 64us/step - loss: 0.3747 - acc: 0.8640 - val_loss: 2.6014 - val_acc: 0.5021\n",
      "Epoch 84/100\n",
      "50000/50000 [==============================] - 3s 63us/step - loss: 0.4145 - acc: 0.8503 - val_loss: 2.6329 - val_acc: 0.4914\n",
      "Epoch 85/100\n",
      "50000/50000 [==============================] - 3s 62us/step - loss: 0.4185 - acc: 0.8500 - val_loss: 2.6415 - val_acc: 0.5074\n",
      "Epoch 86/100\n",
      "50000/50000 [==============================] - 3s 62us/step - loss: 0.3609 - acc: 0.8701 - val_loss: 2.6756 - val_acc: 0.5031\n",
      "Epoch 87/100\n",
      "50000/50000 [==============================] - 3s 63us/step - loss: 0.3627 - acc: 0.8687 - val_loss: 2.7244 - val_acc: 0.5026\n",
      "Epoch 88/100\n",
      "50000/50000 [==============================] - 3s 64us/step - loss: 0.3735 - acc: 0.8639 - val_loss: 2.7100 - val_acc: 0.5038\n",
      "Epoch 89/100\n",
      "50000/50000 [==============================] - 3s 63us/step - loss: 0.3480 - acc: 0.8760 - val_loss: 2.7835 - val_acc: 0.4997\n",
      "Epoch 90/100\n",
      "50000/50000 [==============================] - 3s 68us/step - loss: 0.3378 - acc: 0.8785 - val_loss: 2.7824 - val_acc: 0.5040\n",
      "Epoch 91/100\n",
      "50000/50000 [==============================] - 3s 61us/step - loss: 0.3754 - acc: 0.8645 - val_loss: 2.8434 - val_acc: 0.4971\n",
      "Epoch 92/100\n",
      "50000/50000 [==============================] - 3s 63us/step - loss: 0.3420 - acc: 0.8759 - val_loss: 2.8243 - val_acc: 0.4995\n",
      "Epoch 93/100\n",
      "50000/50000 [==============================] - 3s 61us/step - loss: 0.3635 - acc: 0.8688 - val_loss: 2.8724 - val_acc: 0.4883\n",
      "Epoch 94/100\n",
      "50000/50000 [==============================] - 3s 62us/step - loss: 0.3510 - acc: 0.8745 - val_loss: 2.8432 - val_acc: 0.4942\n",
      "Epoch 95/100\n",
      "50000/50000 [==============================] - 3s 63us/step - loss: 0.3362 - acc: 0.8784 - val_loss: 2.9004 - val_acc: 0.4992\n",
      "Epoch 96/100\n",
      "50000/50000 [==============================] - 3s 62us/step - loss: 0.3129 - acc: 0.8885 - val_loss: 3.0030 - val_acc: 0.4973\n",
      "Epoch 97/100\n",
      "50000/50000 [==============================] - 3s 67us/step - loss: 0.3397 - acc: 0.8771 - val_loss: 3.0174 - val_acc: 0.4992\n",
      "Epoch 98/100\n",
      "50000/50000 [==============================] - 3s 63us/step - loss: 0.3626 - acc: 0.8692 - val_loss: 2.8524 - val_acc: 0.5097\n",
      "Epoch 99/100\n",
      "50000/50000 [==============================] - 3s 62us/step - loss: 0.3003 - acc: 0.8920 - val_loss: 3.1277 - val_acc: 0.4909\n",
      "Epoch 100/100\n",
      "50000/50000 [==============================] - 3s 62us/step - loss: 0.3199 - acc: 0.8859 - val_loss: 2.9686 - val_acc: 0.4942\n"
     ]
    },
    {
     "data": {
      "text/plain": [
       "<keras.callbacks.History at 0x17f095b5fd0>"
      ]
     },
     "execution_count": 9,
     "metadata": {},
     "output_type": "execute_result"
    }
   ],
   "source": [
    "model.fit(x_train, y_train, \n",
    "          epochs=EPOCHS, \n",
    "          batch_size=BATCH_SIZE, \n",
    "          validation_data=(x_test, y_test), \n",
    "          shuffle=True)"
   ]
  },
  {
   "cell_type": "code",
   "execution_count": 11,
   "metadata": {},
   "outputs": [
    {
     "data": {
      "image/png": "[encoded data removed]",
      "text/plain": [
       "<Figure size 432x288 with 1 Axes>"
      ]
     },
     "metadata": {
      "needs_background": "light"
     },
     "output_type": "display_data"
    },
    {
     "data": {
      "image/png": "[encoded data removed]",
      "text/plain": [
       "<Figure size 432x288 with 1 Axes>"
      ]
     },
     "metadata": {
      "needs_background": "light"
     },
     "output_type": "display_data"
    }
   ],
   "source": [
    "%matplotlib inline\n",
    "import matplotlib.pyplot as plt\n",
    "\n",
    "train_loss = model.history.history[\"loss\"]\n",
    "valid_loss = model.history.history[\"val_loss\"]\n",
    "\n",
    "train_acc = model.history.history[\"acc\"]\n",
    "valid_acc = model.history.history[\"val_acc\"]\n",
    "\n",
    "plt.plot(range(len(train_loss)), train_loss, label=\"train loss\")\n",
    "plt.plot(range(len(valid_loss)), valid_loss, label=\"valid loss\")\n",
    "plt.legend()\n",
    "plt.title(\"Loss\")\n",
    "plt.show()\n",
    "\n",
    "plt.plot(range(len(train_acc)), train_acc, label=\"train accuracy\")\n",
    "plt.plot(range(len(valid_acc)), valid_acc, label=\"valid accuracy\")\n",
    "plt.legend()\n",
    "plt.title(\"Accuracy\")\n",
    "plt.show()"
   ]
  },
  {
   "cell_type": "code",
   "execution_count": null,
   "metadata": {},
   "outputs": [],
   "source": []
  }
 ],
 "metadata": {
  "kernelspec": {
   "display_name": "Python 3",
   "language": "python",
   "name": "python3"
  },
  "language_info": {
   "codemirror_mode": {
    "name": "ipython",
    "version": 3
   },
   "file_extension": ".py",
   "mimetype": "text/x-python",
   "name": "python",
   "nbconvert_exporter": "python",
   "pygments_lexer": "ipython3",
   "version": "3.6.8"
  }
 },
 "nbformat": 4,
 "nbformat_minor": 2
}
